{
  "nbformat": 4,
  "nbformat_minor": 0,
  "metadata": {
    "colab": {
      "name": "GeneticAlgorithm.ipynb",
      "provenance": [],
      "collapsed_sections": [],
      "authorship_tag": "ABX9TyNSow0PmQRnSelwkmRF2e1a",
      "include_colab_link": true
    },
    "kernelspec": {
      "name": "python3",
      "display_name": "Python 3"
    }
  },
  "cells": [
    {
      "cell_type": "markdown",
      "metadata": {
        "id": "view-in-github",
        "colab_type": "text"
      },
      "source": [
        "<a href=\"https://colab.research.google.com/github/VZhigalov/Huawei_Sirius_Group2020/blob/master/GeneticAlgorithm.ipynb\" target=\"_parent\"><img src=\"https://colab.research.google.com/assets/colab-badge.svg\" alt=\"Open In Colab\"/></a>"
      ]
    },
    {
      "cell_type": "code",
      "metadata": {
        "id": "f7_svbDq7NKj",
        "colab_type": "code",
        "colab": {}
      },
      "source": [
        "from math import log10\n",
        "import numpy as np\n",
        "import matplotlib.pyplot as plt\n",
        "from random import randrange, gauss\n",
        "from numpy.random import randint\n",
        "from random import random as rnd\n",
        "\n",
        "x = np.load('sample_data/lte_2c_data0_in.npy')\n",
        "y = np.load('sample_data/lte_2c_data0_out.npy')\n",
        "\n",
        "d = y - x\n",
        "\n",
        "\n",
        "def NMSE(gene):\n",
        "\n",
        "    mem = len(gene[0])\n",
        "    ORD = 5\n",
        "    U = np.zeros((len(d), mem*(ORD+1)), dtype = complex)\n",
        "\n",
        "    ind = np.arange(len(d))\n",
        "    for k in ind:\n",
        "        for m in range(mem):\n",
        "            if k - gene[0][m]>=0 and  k - gene[1][m]>=0 and  k - gene[0][m]<len(x) and k - gene[1][m]<len(x):\n",
        "                for p in range(ORD+1):\n",
        "                    U[k, p+m*(ORD+1) ] = x[k - gene[0][m]] * abs(x[k - gene[1][m]])**p   \n",
        "    \n",
        "    Rxx = np.matmul(np.conj(U.T), U)\n",
        "    rdy = np.matmul(np.conj(U.T), d)\n",
        "\n",
        "    w = np.matmul(np.linalg.pinv(Rxx),rdy)\n",
        "\n",
        "    z = np.matmul(U, w)\n",
        "    return 20*log10(np.linalg.norm(d-z)/np.linalg.norm(x))\n",
        "\n",
        "c=16\n",
        "D = population(c, 5, 5, -5)\n",
        "K = sorted(D.keys())  \n",
        "#print(K)\n",
        "\n",
        "\n",
        "\n",
        "\n",
        "\n"
      ],
      "execution_count": 26,
      "outputs": []
    },
    {
      "cell_type": "code",
      "metadata": {
        "id": "MiiMumyulJ5n",
        "colab_type": "code",
        "colab": {}
      },
      "source": [
        "for _ in range(8):\n",
        "    D1 = np.zeros((c,2,5),dtype = int)\n",
        "    Loss = np.zeros(c)\n",
        "\n",
        "    for i in range(c//2):\n",
        "        ind1 = randrange(1,4)\n",
        "        ind2 = randrange(1,4)\n",
        "\n",
        "        D1[2*i][0][0:ind1] = D[K[2*i]][0][0:ind1]\n",
        "        D1[2*i][0][ind1:] = D[K[2*i+1]][0][ind1:]\n",
        "        D1[2*i][1][0:ind2] = D[K[2*i]][1][0:ind2]\n",
        "        D1[2*i][1][ind2:] = D[K[2*i+1]][1][ind2:]\n",
        "        r = randrange(0,5)\n",
        "        D1[2*i][0][r] += round(gauss(0,1))\n",
        "        r = randrange(0,5)\n",
        "        D1[2*i][1][r] += round(gauss(0,1))\n",
        "        Loss[2*i]=NMSE(D1[2*i])\n",
        "\n",
        "        D1[2*i+1][0][0:ind1] = D[K[2*i+1]][0][0:ind1]\n",
        "        D1[2*i+1][0][ind1:] = D[K[2*i]][0][ind1:]\n",
        "        D1[2*i+1][1][0:ind2] = D[K[2*i+1]][1][0:ind2]\n",
        "        D1[2*i+1][1][ind2:] = D[K[2*i]][1][ind2:]    \n",
        "        r = randrange(0,5)\n",
        "        D1[2*i+1][0][r] += round(gauss(0,1))\n",
        "        r = randrange(0,5)\n",
        "        D1[2*i+1][1][r] += round(gauss(0,1))\n",
        "        Loss[2*i+1]=NMSE(D1[2*i+1])\n",
        "\n",
        "    DL = {Loss[i]: D1[i] for i in range(c)}\n",
        "    KL = sorted(DL.keys())\n",
        "\n",
        "    for i in range(c//2):\n",
        "        del D[K[c//2+i]]\n",
        "        D[KL[i]]=DL[KL[i]]\n",
        "    \n",
        "    K = sorted(D.keys())    \n",
        "    print('Ok')\n",
        "\n",
        "    Graph1.append(max(D.keys()))\n",
        "    Graph2.append(min(D.keys()))\n",
        "    Graph3.append(sum(D.keys())/len(D.keys())) "
      ],
      "execution_count": null,
      "outputs": []
    },
    {
      "cell_type": "code",
      "metadata": {
        "id": "Wbm7Qn0WKiKr",
        "colab_type": "code",
        "colab": {
          "base_uri": "https://localhost:8080/",
          "height": 282
        },
        "outputId": "b36824d3-d449-4c16-90c3-e929ec71019b"
      },
      "source": [
        "plt.figure()\n",
        "plt.plot(range(24),Graph1)\n",
        "plt.plot(range(24),Graph2)\n",
        "plt.plot(range(24),Graph3)\n",
        "plt.grid(True)\n",
        "plt.show"
      ],
      "execution_count": 31,
      "outputs": [
        {
          "output_type": "execute_result",
          "data": {
            "text/plain": [
              "<function matplotlib.pyplot.show>"
            ]
          },
          "metadata": {
            "tags": []
          },
          "execution_count": 31
        },
        {
          "output_type": "display_data",
          "data": {
            "image/png": "[encoded data removed]",
            "text/plain": [
              "<Figure size 432x288 with 1 Axes>"
            ]
          },
          "metadata": {
            "tags": [],
            "needs_background": "light"
          }
        }
      ]
    },
    {
      "cell_type": "code",
      "metadata": {
        "id": "t7m8YG2MONnL",
        "colab_type": "code",
        "colab": {}
      },
      "source": [
        "def individual(number_of_genes, upper_limit, lower_limit):           #создание индивидуума\n",
        "    individual=[[round(rnd()*(upper_limit-lower_limit)+lower_limit) \n",
        "                for x in range(number_of_genes)],\n",
        "                [round(rnd()*(upper_limit-lower_limit)+lower_limit) \n",
        "                for x in range(number_of_genes)]]\n",
        "    return individual \n",
        "\n",
        "def population(number_of_individuals,\n",
        "               number_of_genes, upper_limit, lower_limit):           #создание начальной популяции\n",
        "    return {NMSE(individual(number_of_genes, upper_limit, lower_limit)): individual(number_of_genes, upper_limit, lower_limit) \n",
        "        for x in range(number_of_individuals)}"
      ],
      "execution_count": 9,
      "outputs": []
    }
  ]
}